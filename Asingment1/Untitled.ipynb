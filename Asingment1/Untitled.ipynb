{
 "cells": [
  {
   "cell_type": "code",
   "execution_count": 1,
   "id": "58b7d731",
   "metadata": {},
   "outputs": [
    {
     "name": "stdout",
     "output_type": "stream",
     "text": [
      "Twinkle, twinkle, little star,\n",
      " \t\t How I wonder what you are! \n",
      "\t\t\t Up above the world so high,\n",
      "\t\t\t Like a diamond in the sky.\n",
      "Twinkle, twinkle, little star,\n",
      " \t\t How I wonder what you are\n"
     ]
    }
   ],
   "source": [
    "# Assingment No 3\n",
    "# 1 Write a Python program to print the following string in a specific format (see the output).\n",
    "print('''Twinkle, twinkle, little star,\\n \\t\\t How I wonder what you are! \\n\\t\\t\\t Up above the world so high,\n",
    "\\t\\t\\t Like a diamond in the sky.\\nTwinkle, twinkle, little star,\\n \\t\\t How I wonder what you are''')\n"
   ]
  },
  {
   "cell_type": "code",
   "execution_count": 2,
   "id": "bbc80b5c",
   "metadata": {},
   "outputs": [
    {
     "name": "stdout",
     "output_type": "stream",
     "text": [
      "Python Version 3.8.8 (default, Apr 13 2021, 15:08:03) [MSC v.1916 64 bit (AMD64)]\n"
     ]
    }
   ],
   "source": [
    "# 2 Write a Python program to get the Python version you are using\n",
    "import sys\n",
    "print(\"Python Version\", sys.version)\n"
   ]
  },
  {
   "cell_type": "code",
   "execution_count": 4,
   "id": "c3b8a103",
   "metadata": {},
   "outputs": [
    {
     "name": "stdout",
     "output_type": "stream",
     "text": [
      " Date :  24 / 10 / 21\n",
      " Time :  03 : 15 : 09\n"
     ]
    }
   ],
   "source": [
    "# 3 Write Write a Python program to display the current date and time.\n",
    " \n",
    "from datetime import datetime\n",
    "x = datetime.now()\n",
    "date = x.strftime(\"%d / %m / %y\")\n",
    "time = x.strftime (\"%H : %M : %S\")\n",
    "print(\" Date : \",date)\n",
    "print(\" Time : \",time)\n"
   ]
  },
  {
   "cell_type": "code",
   "execution_count": 5,
   "id": "d30d3219",
   "metadata": {},
   "outputs": [
    {
     "name": "stdout",
     "output_type": "stream",
     "text": [
      "Enter a value of r: 5\n",
      "The value of circle :  78.54\n"
     ]
    }
   ],
   "source": [
    "# 4 Write a Python program which accepts the radius of a circle from the user and compute the area.\n",
    "from math import pi\n",
    "r = float(input(\"Enter a value of r: \"))\n",
    "value = \"%.2f\" %((pi * r**2))\n",
    "print(\"The value of circle : \" ,(value))\n"
   ]
  },
  {
   "cell_type": "code",
   "execution_count": 6,
   "id": "04a90511",
   "metadata": {},
   "outputs": [
    {
     "name": "stdout",
     "output_type": "stream",
     "text": [
      "Enter your first_name : Talha\n",
      "Enter your last_name : Bashir\n",
      "Talha Bashir\n",
      "Reverse :  ahlaT rihsaB\n"
     ]
    }
   ],
   "source": [
    "# 5 Write a Python program which accepts the user's first and last name and print them in reverse order with a space between them.\n",
    "first = input( \"Enter your first_name : \")\n",
    "last = input (\"Enter your last_name : \")\n",
    "print(first , last )\n",
    "name = first[:: -1]+ \" \" +last[:: -1]\n",
    "print(\"Reverse : \" ,name)\n"
   ]
  },
  {
   "cell_type": "code",
   "execution_count": 7,
   "id": "ec0aecdb",
   "metadata": {},
   "outputs": [
    {
     "name": "stdout",
     "output_type": "stream",
     "text": [
      "Enter your first number : 5\n",
      "Enter your Second number : 7\n",
      " Two Number Add :  12\n"
     ]
    }
   ],
   "source": [
    "# 6 Write a python program which takes two inputs from user and print them addition\n",
    "num1 = int(input(\"Enter your first number : \"))\n",
    "num2 = int(input(\"Enter your Second number : \"))\n",
    "print(\" Two Number Add : \" , num1+num2)\n"
   ]
  },
  {
   "cell_type": "code",
   "execution_count": 8,
   "id": "c86586da",
   "metadata": {},
   "outputs": [
    {
     "name": "stdout",
     "output_type": "stream",
     "text": [
      "English : 78\n",
      "Math :  89\n",
      "Urdu : 76\n",
      "Science : 89\n",
      "Islamiat :  96\n",
      "Total 428  \n",
      " Percentage 85 \n",
      "Grade A \n"
     ]
    }
   ],
   "source": [
    "# 7 Write a program which takes 5 inputs from user for different subject’s marks, total it and generate mark sheet using grades ?\n",
    "Eng = int(input(\"English : \"))\n",
    "Math = int(input(\"Math :  \"))\n",
    "Urdu = int(input(\"Urdu : \"))\n",
    "Science = int(input(\"Science : \"))\n",
    "Isl = int(input(\"Islamiat :  \"))\n",
    "total = Eng+Math+Urdu+Science+Isl\n",
    "per = (total/500)*100\n",
    "print(\"Total %i  \\n Percentage %i \"%(total,per))\n",
    "if per < 100 and per  >= 90:\n",
    "    print(\"Grade A-one\")\n",
    "elif per <= 89 and per >=80:\n",
    "    print(\"Grade A \")\n",
    "elif per <= 79 and per >=70:\n",
    "    print(\"Grade B\")\n",
    "elif per <= 69 and per >=60:\n",
    "    print(\"Grade C\")\n",
    "elif per <= 59 and per >=50:\n",
    "    print(\"Grade D\")\n",
    "elif per < 50:\n",
    "    print(\"fail\")\n"
   ]
  },
  {
   "cell_type": "code",
   "execution_count": 9,
   "id": "7cdce183",
   "metadata": {},
   "outputs": [
    {
     "name": "stdout",
     "output_type": "stream",
     "text": [
      "Enter Number : 7\n",
      "OddNumber  7\n"
     ]
    }
   ],
   "source": [
    "# 8 Write a program which take input from user and identify that the given number is even or odd?\n",
    "\n",
    "num = int(input(\"Enter Number : \"))\n",
    "if num%2 == 0:\n",
    "    print(\"EvernNumber \", num )\n",
    "else:\n",
    "    print(\"OddNumber \",num)\n"
   ]
  },
  {
   "cell_type": "code",
   "execution_count": 10,
   "id": "9fd694e5",
   "metadata": {},
   "outputs": [
    {
     "name": "stdout",
     "output_type": "stream",
     "text": [
      "Length of the list :  11\n"
     ]
    }
   ],
   "source": [
    "# 9 Write a program which print the length of the list?\n",
    "a = [1, 1, 2, 3, 5, 8, 13, 21, 34, 55, 89]\n",
    "print(\"Length of the list : \",len(a))\n"
   ]
  },
  {
   "cell_type": "code",
   "execution_count": 11,
   "id": "7156fa80",
   "metadata": {},
   "outputs": [
    {
     "name": "stdout",
     "output_type": "stream",
     "text": [
      "Sum in a list :  232\n"
     ]
    }
   ],
   "source": [
    "#10.Write a Python program to sum all the numeric items in a list?\n",
    "a = [1, 1, 2, 3, 5, 8, 13, 21, 34, 55, 89]\n",
    "print(\"Sum in a list : \", sum(a))\n"
   ]
  },
  {
   "cell_type": "code",
   "execution_count": 12,
   "id": "97d900b7",
   "metadata": {},
   "outputs": [
    {
     "name": "stdout",
     "output_type": "stream",
     "text": [
      "The largest number for a list :  89\n"
     ]
    }
   ],
   "source": [
    "#11.Write a Python program to get the largest number from a numeric list.\n",
    "a = [1, 1, 2, 3, 5, 8, 13, 21, 34, 55, 89]\n",
    "\n",
    "print(\"The largest number for a list : \", max(a))\n"
   ]
  },
  {
   "cell_type": "code",
   "execution_count": 13,
   "id": "0c8ef75a",
   "metadata": {},
   "outputs": [
    {
     "name": "stdout",
     "output_type": "stream",
     "text": [
      "1\n",
      "1\n",
      "2\n",
      "3\n"
     ]
    }
   ],
   "source": [
    "#Take a list, say for example this one: Write a program that prints out all the elements of the list that are less than 5.\n",
    "a = [1, 1, 2, 3, 5, 8, 13, 21, 34, 55, 89]\n",
    "for i in a:\n",
    "    if i < 5:\n",
    "        print(i)\n"
   ]
  },
  {
   "cell_type": "code",
   "execution_count": null,
   "id": "6e904758",
   "metadata": {},
   "outputs": [],
   "source": []
  }
 ],
 "metadata": {
  "kernelspec": {
   "display_name": "Python 3",
   "language": "python",
   "name": "python3"
  },
  "language_info": {
   "codemirror_mode": {
    "name": "ipython",
    "version": 3
   },
   "file_extension": ".py",
   "mimetype": "text/x-python",
   "name": "python",
   "nbconvert_exporter": "python",
   "pygments_lexer": "ipython3",
   "version": "3.8.8"
  }
 },
 "nbformat": 4,
 "nbformat_minor": 5
}
